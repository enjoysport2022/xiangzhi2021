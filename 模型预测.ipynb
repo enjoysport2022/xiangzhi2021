{
 "cells": [
  {
   "cell_type": "markdown",
   "metadata": {},
   "source": [
    "## 模型预测"
   ]
  },
  {
   "cell_type": "code",
   "execution_count": 1,
   "metadata": {
    "ExecuteTime": {
     "end_time": "2021-10-21T13:17:57.402553Z",
     "start_time": "2021-10-21T13:17:57.393950Z"
    },
    "scrolled": true
   },
   "outputs": [],
   "source": [
    "used_features = ['最高温',\n",
    " '最低温',\n",
    " '天气',\n",
    " '风力风向',\n",
    " '空气质量指数',\n",
    " '时间_day',\n",
    " '时间_hour',\n",
    " '时间_minute',\n",
    " '时间_dayofweek',\n",
    " '时间_is_wknd',\n",
    " '项目_等候时间_lag1',\n",
    " '项目_等候时间_lag2',\n",
    " '项目_等候时间_lag3',\n",
    " '项目_等候时间_lag4',\n",
    " '项目_等候时间_lag5',\n",
    " '项目_等候时间_lag6',\n",
    " '项目_等候时间_lag7',\n",
    " '项目_等候时间_lag8',\n",
    " '项目_时间_dayofweek_等候时间_lag1',\n",
    " 'past_1h_mean',\n",
    " 'past_1h_median',\n",
    " 'past_1h_std',\n",
    " 'past_1h_min',\n",
    " 'past_1h_max',\n",
    " 'past_2h_mean',\n",
    " 'past_2h_median',\n",
    " 'past_2h_std',\n",
    " 'past_2h_min',\n",
    " 'past_2h_max',\n",
    " '项目_target_mean',\n",
    " '时间_day_target_mean',\n",
    " '时间_hour_target_mean',\n",
    " '时间_minute_target_mean',\n",
    " '时间_dayofweek_target_mean',\n",
    " '时间_is_wknd_target_mean']"
   ]
  },
  {
   "cell_type": "code",
   "execution_count": 2,
   "metadata": {
    "ExecuteTime": {
     "end_time": "2021-10-21T13:18:01.836948Z",
     "start_time": "2021-10-21T13:18:01.832904Z"
    }
   },
   "outputs": [],
   "source": [
    "target = '等候时间'"
   ]
  },
  {
   "cell_type": "code",
   "execution_count": 3,
   "metadata": {
    "ExecuteTime": {
     "end_time": "2021-10-21T13:18:19.444510Z",
     "start_time": "2021-10-21T13:18:19.031386Z"
    }
   },
   "outputs": [],
   "source": [
    "import pandas as pd\n",
    "import pickle"
   ]
  },
  {
   "cell_type": "code",
   "execution_count": 4,
   "metadata": {
    "ExecuteTime": {
     "end_time": "2021-10-21T13:18:19.905377Z",
     "start_time": "2021-10-21T13:18:19.880762Z"
    }
   },
   "outputs": [],
   "source": [
    "test = pd.read_csv(\"test.csv\")"
   ]
  },
  {
   "cell_type": "code",
   "execution_count": 5,
   "metadata": {
    "ExecuteTime": {
     "end_time": "2021-10-21T13:18:22.567071Z",
     "start_time": "2021-10-21T13:18:21.249233Z"
    }
   },
   "outputs": [],
   "source": [
    "# load model with pickle to predict\n",
    "with open('model.pkl', 'rb') as fin:\n",
    "    pkl_bst = pickle.load(fin)"
   ]
  },
  {
   "cell_type": "code",
   "execution_count": 6,
   "metadata": {
    "ExecuteTime": {
     "end_time": "2021-10-21T13:18:25.692964Z",
     "start_time": "2021-10-21T13:18:25.687928Z"
    }
   },
   "outputs": [],
   "source": [
    "import numpy as np\n",
    "def clip_label(pred, min_, max_):\n",
    "    pred = np.clip(pred, min_, max_)\n",
    "    return pred"
   ]
  },
  {
   "cell_type": "code",
   "execution_count": 7,
   "metadata": {
    "ExecuteTime": {
     "end_time": "2021-10-21T13:27:30.308996Z",
     "start_time": "2021-10-21T13:18:29.033966Z"
    },
    "scrolled": true
   },
   "outputs": [
    {
     "name": "stdout",
     "output_type": "stream",
     "text": [
      "2021-10-19 09:00:00\n"
     ]
    },
    {
     "name": "stderr",
     "output_type": "stream",
     "text": [
      "/home/caihengxing/anaconda3/envs/python37/lib/python3.7/site-packages/ipykernel_launcher.py:16: SettingWithCopyWarning: \n",
      "A value is trying to be set on a copy of a slice from a DataFrame.\n",
      "Try using .loc[row_indexer,col_indexer] = value instead\n",
      "\n",
      "See the caveats in the documentation: https://pandas.pydata.org/pandas-docs/stable/user_guide/indexing.html#returning-a-view-versus-a-copy\n",
      "  app.launch_new_instance()\n",
      "/home/caihengxing/anaconda3/envs/python37/lib/python3.7/site-packages/ipykernel_launcher.py:17: SettingWithCopyWarning: \n",
      "A value is trying to be set on a copy of a slice from a DataFrame.\n",
      "Try using .loc[row_indexer,col_indexer] = value instead\n",
      "\n",
      "See the caveats in the documentation: https://pandas.pydata.org/pandas-docs/stable/user_guide/indexing.html#returning-a-view-versus-a-copy\n"
     ]
    },
    {
     "name": "stdout",
     "output_type": "stream",
     "text": [
      "2021-10-19 09:15:00\n",
      "2021-10-19 09:30:00\n",
      "2021-10-19 09:45:00\n",
      "2021-10-19 10:00:00\n",
      "2021-10-19 10:15:00\n",
      "2021-10-19 10:30:00\n",
      "2021-10-19 10:45:00\n",
      "2021-10-19 11:00:00\n",
      "2021-10-19 11:15:00\n",
      "2021-10-19 11:30:00\n",
      "2021-10-19 11:45:00\n",
      "2021-10-19 12:00:00\n",
      "2021-10-19 12:15:00\n",
      "2021-10-19 12:30:00\n",
      "2021-10-19 12:45:00\n",
      "2021-10-19 13:00:00\n",
      "2021-10-19 13:15:00\n",
      "2021-10-19 13:30:00\n",
      "2021-10-19 13:45:00\n",
      "2021-10-19 14:00:00\n",
      "2021-10-19 14:15:00\n",
      "2021-10-19 14:30:00\n",
      "2021-10-19 14:45:00\n",
      "2021-10-19 15:00:00\n",
      "2021-10-19 15:15:00\n",
      "2021-10-19 15:30:00\n",
      "2021-10-19 15:45:00\n",
      "2021-10-19 16:00:00\n",
      "2021-10-19 16:15:00\n",
      "2021-10-19 16:30:00\n",
      "2021-10-19 16:45:00\n",
      "2021-10-19 17:00:00\n",
      "2021-10-19 17:15:00\n",
      "2021-10-19 17:30:00\n",
      "2021-10-19 17:45:00\n",
      "2021-10-19 18:00:00\n",
      "2021-10-19 18:15:00\n",
      "2021-10-19 18:30:00\n",
      "2021-10-19 18:45:00\n",
      "2021-10-19 09:00:00\n",
      "2021-10-19 09:15:00\n",
      "2021-10-19 09:30:00\n",
      "2021-10-19 09:45:00\n",
      "2021-10-19 10:00:00\n",
      "2021-10-19 10:15:00\n",
      "2021-10-19 10:30:00\n",
      "2021-10-19 10:45:00\n",
      "2021-10-19 11:00:00\n",
      "2021-10-19 11:15:00\n",
      "2021-10-19 11:30:00\n",
      "2021-10-19 11:45:00\n",
      "2021-10-19 12:00:00\n",
      "2021-10-19 12:15:00\n",
      "2021-10-19 12:30:00\n",
      "2021-10-19 12:45:00\n",
      "2021-10-19 13:00:00\n",
      "2021-10-19 13:15:00\n",
      "2021-10-19 13:30:00\n",
      "2021-10-19 13:45:00\n",
      "2021-10-19 14:00:00\n",
      "2021-10-19 14:15:00\n",
      "2021-10-19 14:30:00\n",
      "2021-10-19 14:45:00\n",
      "2021-10-19 15:00:00\n",
      "2021-10-19 15:15:00\n",
      "2021-10-19 15:30:00\n",
      "2021-10-19 15:45:00\n",
      "2021-10-19 16:00:00\n",
      "2021-10-19 16:15:00\n",
      "2021-10-19 16:30:00\n",
      "2021-10-19 16:45:00\n",
      "2021-10-19 17:00:00\n",
      "2021-10-19 17:15:00\n",
      "2021-10-19 17:30:00\n",
      "2021-10-19 17:45:00\n",
      "2021-10-19 18:00:00\n",
      "2021-10-19 18:15:00\n",
      "2021-10-19 18:30:00\n",
      "2021-10-19 18:45:00\n",
      "2021-10-19 09:00:00\n",
      "2021-10-19 09:15:00\n",
      "2021-10-19 09:30:00\n",
      "2021-10-19 09:45:00\n",
      "2021-10-19 10:00:00\n",
      "2021-10-19 10:15:00\n",
      "2021-10-19 10:30:00\n",
      "2021-10-19 10:45:00\n",
      "2021-10-19 11:00:00\n",
      "2021-10-19 11:15:00\n",
      "2021-10-19 11:30:00\n",
      "2021-10-19 11:45:00\n",
      "2021-10-19 12:00:00\n",
      "2021-10-19 12:15:00\n",
      "2021-10-19 12:30:00\n",
      "2021-10-19 12:45:00\n",
      "2021-10-19 13:00:00\n",
      "2021-10-19 13:15:00\n",
      "2021-10-19 13:30:00\n",
      "2021-10-19 13:45:00\n",
      "2021-10-19 14:00:00\n",
      "2021-10-19 14:15:00\n",
      "2021-10-19 14:30:00\n",
      "2021-10-19 14:45:00\n",
      "2021-10-19 15:00:00\n",
      "2021-10-19 15:15:00\n",
      "2021-10-19 15:30:00\n",
      "2021-10-19 15:45:00\n",
      "2021-10-19 16:00:00\n",
      "2021-10-19 16:15:00\n",
      "2021-10-19 16:30:00\n",
      "2021-10-19 16:45:00\n",
      "2021-10-19 17:00:00\n",
      "2021-10-19 17:15:00\n",
      "2021-10-19 17:30:00\n",
      "2021-10-19 17:45:00\n",
      "2021-10-19 18:00:00\n",
      "2021-10-19 18:15:00\n",
      "2021-10-19 18:30:00\n",
      "2021-10-19 18:45:00\n",
      "2021-10-19 09:00:00\n",
      "2021-10-19 09:15:00\n",
      "2021-10-19 09:30:00\n",
      "2021-10-19 09:45:00\n",
      "2021-10-19 10:00:00\n",
      "2021-10-19 10:15:00\n",
      "2021-10-19 10:30:00\n",
      "2021-10-19 10:45:00\n",
      "2021-10-19 11:00:00\n",
      "2021-10-19 11:15:00\n",
      "2021-10-19 11:30:00\n",
      "2021-10-19 11:45:00\n",
      "2021-10-19 12:00:00\n",
      "2021-10-19 12:15:00\n",
      "2021-10-19 12:30:00\n",
      "2021-10-19 12:45:00\n",
      "2021-10-19 13:00:00\n",
      "2021-10-19 13:15:00\n",
      "2021-10-19 13:30:00\n",
      "2021-10-19 13:45:00\n",
      "2021-10-19 14:00:00\n",
      "2021-10-19 14:15:00\n",
      "2021-10-19 14:30:00\n",
      "2021-10-19 14:45:00\n",
      "2021-10-19 15:00:00\n",
      "2021-10-19 15:15:00\n",
      "2021-10-19 15:30:00\n",
      "2021-10-19 15:45:00\n",
      "2021-10-19 16:00:00\n",
      "2021-10-19 16:15:00\n",
      "2021-10-19 16:30:00\n",
      "2021-10-19 16:45:00\n",
      "2021-10-19 17:00:00\n",
      "2021-10-19 17:15:00\n",
      "2021-10-19 17:30:00\n",
      "2021-10-19 17:45:00\n",
      "2021-10-19 18:00:00\n",
      "2021-10-19 18:15:00\n",
      "2021-10-19 18:30:00\n",
      "2021-10-19 18:45:00\n",
      "2021-10-19 09:00:00\n",
      "2021-10-19 09:15:00\n",
      "2021-10-19 09:30:00\n",
      "2021-10-19 09:45:00\n",
      "2021-10-19 10:00:00\n",
      "2021-10-19 10:15:00\n",
      "2021-10-19 10:30:00\n",
      "2021-10-19 10:45:00\n",
      "2021-10-19 11:00:00\n",
      "2021-10-19 11:15:00\n",
      "2021-10-19 11:30:00\n",
      "2021-10-19 11:45:00\n",
      "2021-10-19 12:00:00\n",
      "2021-10-19 12:15:00\n",
      "2021-10-19 12:30:00\n",
      "2021-10-19 12:45:00\n",
      "2021-10-19 13:00:00\n"
     ]
    },
    {
     "ename": "KeyboardInterrupt",
     "evalue": "",
     "output_type": "error",
     "traceback": [
      "\u001b[0;31m---------------------------------------------------------------------------\u001b[0m",
      "\u001b[0;31mKeyboardInterrupt\u001b[0m                         Traceback (most recent call last)",
      "\u001b[0;32m<ipython-input-7-ae2cadd4ff94>\u001b[0m in \u001b[0;36m<module>\u001b[0;34m\u001b[0m\n\u001b[1;32m     20\u001b[0m         \u001b[0mcur_res\u001b[0m\u001b[0;34m.\u001b[0m\u001b[0mindex\u001b[0m \u001b[0;34m=\u001b[0m \u001b[0mrange\u001b[0m\u001b[0;34m(\u001b[0m\u001b[0mlen\u001b[0m\u001b[0;34m(\u001b[0m\u001b[0mcur_res\u001b[0m\u001b[0;34m)\u001b[0m\u001b[0;34m)\u001b[0m\u001b[0;34m\u001b[0m\u001b[0;34m\u001b[0m\u001b[0m\n\u001b[1;32m     21\u001b[0m         \u001b[0mcur_res\u001b[0m\u001b[0;34m.\u001b[0m\u001b[0mloc\u001b[0m\u001b[0;34m[\u001b[0m\u001b[0;36m0\u001b[0m\u001b[0;34m,\u001b[0m\u001b[0;34m[\u001b[0m\u001b[0;34m'时间'\u001b[0m\u001b[0;34m]\u001b[0m\u001b[0;34m]\u001b[0m\u001b[0;34m.\u001b[0m\u001b[0mto_csv\u001b[0m\u001b[0;34m(\u001b[0m\u001b[0;34mf'./sub/time.txt'\u001b[0m\u001b[0;34m,\u001b[0m \u001b[0mindex\u001b[0m \u001b[0;34m=\u001b[0m \u001b[0;32mFalse\u001b[0m\u001b[0;34m,\u001b[0m \u001b[0mheader\u001b[0m \u001b[0;34m=\u001b[0m \u001b[0;32mFalse\u001b[0m\u001b[0;34m)\u001b[0m\u001b[0;34m\u001b[0m\u001b[0;34m\u001b[0m\u001b[0m\n\u001b[0;32m---> 22\u001b[0;31m         \u001b[0mtime\u001b[0m\u001b[0;34m.\u001b[0m\u001b[0msleep\u001b[0m\u001b[0;34m(\u001b[0m\u001b[0;36m3\u001b[0m\u001b[0;34m)\u001b[0m\u001b[0;34m\u001b[0m\u001b[0;34m\u001b[0m\u001b[0m\n\u001b[0m",
      "\u001b[0;31mKeyboardInterrupt\u001b[0m: "
     ]
    }
   ],
   "source": [
    "import time\n",
    "import time\n",
    "from datetime import datetime, timedelta\n",
    "cur_date = \"2021-10-19 09:00:00\"\n",
    "for _ in range(10):\n",
    "    for i in range(40):\n",
    "        delta_time = timedelta(minutes=15 * i)\n",
    "        cur_time = str(datetime.strptime(cur_date, '%Y-%m-%d %H:%M:%S') + delta_time)\n",
    "        print(cur_time)\n",
    "        \n",
    "        cur = test.loc[test['时间'] == cur_time, :]\n",
    "        cur_res = cur[['项目', '时间']]\n",
    "        y_pred = pkl_bst.predict(cur[used_features])\n",
    "        y_pred = np.expm1(y_pred)\n",
    "        y_pred = clip_label(y_pred, 5, 120)\n",
    "        cur_res[target] = y_pred\n",
    "        cur_res[target] = cur_res[target].apply(lambda x: round(x, 0))\n",
    "        for item in cur_res['项目'].unique():\n",
    "            cur_res.loc[cur_res['项目'] == item, '等候时间'].to_csv(f'./sub/{item}.txt', index = False, header = False)\n",
    "        cur_res.index = range(len(cur_res))\n",
    "        cur_res.loc[0,['时间']].to_csv(f'./sub/time.txt', index = False, header = False)\n",
    "        time.sleep(3)\n",
    "        "
   ]
  },
  {
   "cell_type": "code",
   "execution_count": null,
   "metadata": {},
   "outputs": [],
   "source": []
  },
  {
   "cell_type": "code",
   "execution_count": null,
   "metadata": {},
   "outputs": [],
   "source": []
  },
  {
   "cell_type": "code",
   "execution_count": null,
   "metadata": {},
   "outputs": [],
   "source": []
  },
  {
   "cell_type": "code",
   "execution_count": null,
   "metadata": {},
   "outputs": [],
   "source": []
  }
 ],
 "metadata": {
  "kernelspec": {
   "display_name": "Python 3",
   "language": "python",
   "name": "python3"
  },
  "language_info": {
   "codemirror_mode": {
    "name": "ipython",
    "version": 3
   },
   "file_extension": ".py",
   "mimetype": "text/x-python",
   "name": "python",
   "nbconvert_exporter": "python",
   "pygments_lexer": "ipython3",
   "version": "3.7.3"
  },
  "toc": {
   "base_numbering": 1,
   "nav_menu": {},
   "number_sections": true,
   "sideBar": true,
   "skip_h1_title": false,
   "title_cell": "Table of Contents",
   "title_sidebar": "Contents",
   "toc_cell": false,
   "toc_position": {
    "height": "calc(100% - 180px)",
    "left": "10px",
    "top": "150px",
    "width": "165px"
   },
   "toc_section_display": true,
   "toc_window_display": true
  },
  "varInspector": {
   "cols": {
    "lenName": 16,
    "lenType": 16,
    "lenVar": 40
   },
   "kernels_config": {
    "python": {
     "delete_cmd_postfix": "",
     "delete_cmd_prefix": "del ",
     "library": "var_list.py",
     "varRefreshCmd": "print(var_dic_list())"
    },
    "r": {
     "delete_cmd_postfix": ") ",
     "delete_cmd_prefix": "rm(",
     "library": "var_list.r",
     "varRefreshCmd": "cat(var_dic_list()) "
    }
   },
   "types_to_exclude": [
    "module",
    "function",
    "builtin_function_or_method",
    "instance",
    "_Feature"
   ],
   "window_display": false
  }
 },
 "nbformat": 4,
 "nbformat_minor": 5
}
