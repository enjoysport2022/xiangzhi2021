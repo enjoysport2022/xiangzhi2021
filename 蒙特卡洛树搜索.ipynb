{
 "cells": [
  {
   "cell_type": "code",
   "execution_count": 1,
   "metadata": {
    "ExecuteTime": {
     "end_time": "2021-10-22T11:06:49.858311Z",
     "start_time": "2021-10-22T11:06:49.596756Z"
    }
   },
   "outputs": [],
   "source": [
    "#!/usr/bin/env python\n",
    "# coding: utf-8\n",
    "from tqdm import tqdm\n",
    "import random\n",
    "import math\n",
    "import pandas as pd\n",
    "import pickle\n",
    "import numpy as np\n",
    "import operator\n",
    "from datetime import datetime, timedelta"
   ]
  },
  {
   "cell_type": "code",
   "execution_count": 2,
   "metadata": {
    "ExecuteTime": {
     "end_time": "2021-10-22T11:06:50.403134Z",
     "start_time": "2021-10-22T11:06:49.860450Z"
    }
   },
   "outputs": [],
   "source": [
    "def expand(cur, need_to_visit, path):\n",
    "    remain_path = [x for x in need_to_visit if x not in path]\n",
    "    # remain_path = [x for x in remain_path if x != 'S']\n",
    "    for child in remain_path:\n",
    "        child_node = Node(child)\n",
    "        cur.children.append(child_node)\n",
    "\n",
    "def backward(path, q):\n",
    "    cur = n_start\n",
    "    cur.Q += q\n",
    "    cur.n += 1\n",
    "    for cur_state in path[1:]:\n",
    "        cur = [x for x in cur.children if x.state == cur_state][0]\n",
    "        cur.Q += q\n",
    "        cur.n += 1\n",
    "\n",
    "def ucb_score(Q, n, N, Cp=1):\n",
    "    \"\"\" UCB1 calculation. \"\"\"\n",
    "    if n == 0:\n",
    "        return math.inf\n",
    "    return (Q / n) + Cp * math.sqrt(math.log(N) / n)\n",
    "\n",
    "class Node():\n",
    "    def __init__(self, state, parent=None):\n",
    "        self.n = 0\n",
    "        self.Q = 0.0\n",
    "        self.state = state\n",
    "        self.children = []\n",
    "        self.parent = parent\n",
    "\n",
    "    def expaned(self, child_state):\n",
    "        for child in child_state:\n",
    "            child_node = Node(child)\n",
    "            self.children.append(child_node)\n",
    "\n",
    "def rollout(need_to_visit, path):\n",
    "    remain_path = [x for x in need_to_visit if x not in path]\n",
    "    # remain_path = [x for x in remain_path if x != 'S']\n",
    "    randomlist = random.sample(range(0, len(remain_path)), len(remain_path))\n",
    "    random_path = path.copy()\n",
    "    for idx in randomlist:\n",
    "        random_path.append(remain_path[idx])\n",
    "    #     time_ = 0\n",
    "    #     for state in random_path[1:]:\n",
    "    #         time_ += random.random()\n",
    "    time_ = total_time_cal(random_path[1:], cur_time)\n",
    "    return 360 - time_, random_path\n",
    "\n",
    "used_features = ['最高温',\n",
    "                 '最低温',\n",
    "                 '天气',\n",
    "                 '风力风向',\n",
    "                 '空气质量指数',\n",
    "                 '时间_day',\n",
    "                 '时间_hour',\n",
    "                 '时间_minute',\n",
    "                 '时间_dayofweek',\n",
    "                 '时间_is_wknd',\n",
    "                 '项目_等候时间_lag1',\n",
    "                 '项目_等候时间_lag2',\n",
    "                 '项目_等候时间_lag3',\n",
    "                 '项目_等候时间_lag4',\n",
    "                 '项目_等候时间_lag5',\n",
    "                 '项目_等候时间_lag6',\n",
    "                 '项目_等候时间_lag7',\n",
    "                 '项目_等候时间_lag8',\n",
    "                 '项目_时间_dayofweek_等候时间_lag1',\n",
    "                 'past_1h_mean',\n",
    "                 'past_1h_median',\n",
    "                 'past_1h_std',\n",
    "                 'past_1h_min',\n",
    "                 'past_1h_max',\n",
    "                 'past_2h_mean',\n",
    "                 'past_2h_median',\n",
    "                 'past_2h_std',\n",
    "                 'past_2h_min',\n",
    "                 'past_2h_max',\n",
    "                 '项目_target_mean',\n",
    "                 '时间_day_target_mean',\n",
    "                 '时间_hour_target_mean',\n",
    "                 '时间_minute_target_mean',\n",
    "                 '时间_dayofweek_target_mean',\n",
    "                 '时间_is_wknd_target_mean']\n",
    "\n",
    "target = '等候时间'\n",
    "\n",
    "test = pd.read_csv(\"test.csv\")\n",
    "# load model with pickle to predict\n",
    "with open('model.pkl', 'rb') as fin:\n",
    "    pkl_bst = pickle.load(fin)\n",
    "\n",
    "\n",
    "def clip_label(pred, min_, max_):\n",
    "    pred = np.clip(pred, min_, max_)\n",
    "    return pred\n",
    "\n",
    "\n",
    "def time_cal(item, cur_time):\n",
    "    cur_feas = get_feas(item, cur_time)\n",
    "    # print(cur_feas)\n",
    "    y_pred = pkl_bst.predict(cur_feas[used_features])\n",
    "    y_pred = np.expm1(y_pred)\n",
    "    y_pred = clip_label(y_pred, 5, 120)\n",
    "    cur_time = y_pred[0]\n",
    "    return round(cur_time, 0)\n",
    "\n",
    "\n",
    "def get_feas(item, cur_time):\n",
    "    minutes = int(cur_time[14:16])\n",
    "    if minutes in range(0, 15):\n",
    "        cur_time = cur_time.split(' ')[0] + ' ' + cur_time.split(' ')[1].replace(cur_time[14:16], '00')\n",
    "    elif minutes in range(15, 30):\n",
    "        cur_time = cur_time.split(' ')[0] + ' ' + cur_time.split(' ')[1].replace(cur_time[14:16], '15')\n",
    "    elif minutes in range(30, 45):\n",
    "        cur_time = cur_time.split(' ')[0] + ' ' + cur_time.split(' ')[1].replace(cur_time[14:16], '30')\n",
    "    elif minutes in range(45, 60):\n",
    "        cur_time = cur_time.split(' ')[0] + ' ' + cur_time.split(' ')[1].replace(cur_time[14:16], '45')\n",
    "    feas = test.loc[(test['时间'] == cur_time) & (test['项目'] == item)]\n",
    "    if feas.shape[0] == 0:\n",
    "        feas = test.loc[(test['项目'] == item)].sample(1)\n",
    "    # print(cur_time, item)\n",
    "    #     print(feas)\n",
    "    return feas\n",
    "\n",
    "\n",
    "def add_time(cur_time, item_time):\n",
    "    \n",
    "    delta_time = timedelta(minutes=item_time)\n",
    "    cur_time = str(datetime.strptime(cur_time, '%Y-%m-%d %H:%M:%S') + delta_time)\n",
    "    return cur_time\n",
    "    \n",
    "def total_time_cal(path, cur_time):\n",
    "    time_ = 0\n",
    "    for item in path:\n",
    "        item_time = time_cal(item, cur_time)\n",
    "        #         print(item, item_time)\n",
    "        time_ += item_time\n",
    "        cur_time = add_time(cur_time, item_time)\n",
    "    #         print(cur_time)\n",
    "    \n",
    "    return time_"
   ]
  },
  {
   "cell_type": "code",
   "execution_count": 3,
   "metadata": {
    "ExecuteTime": {
     "end_time": "2021-10-22T11:07:37.875237Z",
     "start_time": "2021-10-22T11:06:50.407803Z"
    },
    "scrolled": true
   },
   "outputs": [
    {
     "name": "stdout",
     "output_type": "stream",
     "text": [
      "need_to_visit:  ['功夫熊猫', '变形金刚', '超萌漩漩涡', '哈利波特与禁忌之旅', '飞越侏罗纪', '灯影传奇', '奇遇迅猛龙']\n",
      "cur_time: 2021-10-19 09:06:00\n"
     ]
    },
    {
     "name": "stderr",
     "output_type": "stream",
     "text": [
      "100%|██████████| 30/30 [00:03<00:00,  8.18it/s]\n"
     ]
    },
    {
     "name": "stdout",
     "output_type": "stream",
     "text": [
      "得分: {'功夫熊猫': 193.0, '变形金刚': 163.0, '超萌漩漩涡': 148.0, '哈利波特与禁忌之旅': 128.0, '飞越侏罗纪': 208.56521739130434, '灯影传奇': 158.0, '奇遇迅猛龙': 185.0}\n",
      "推荐景点:  飞越侏罗纪\n",
      "##############################\n",
      "\n",
      "need_to_visit:  ['功夫熊猫', '飞越侏罗纪', '灯影传奇', '奇遇迅猛龙']\n",
      "cur_time: 2021-10-19 11:19:00\n"
     ]
    },
    {
     "name": "stderr",
     "output_type": "stream",
     "text": [
      "100%|██████████| 30/30 [00:02<00:00, 14.52it/s]\n"
     ]
    },
    {
     "name": "stdout",
     "output_type": "stream",
     "text": [
      "得分: {'功夫熊猫': 231.0, '飞越侏罗纪': 220.0, '灯影传奇': 237.37037037037038, '奇遇迅猛龙': 233.0}\n",
      "推荐景点:  灯影传奇\n",
      "##############################\n",
      "\n",
      "need_to_visit:  ['超萌漩漩涡', '哈利波特与禁忌之旅', '奇遇迅猛龙', '功夫熊猫']\n",
      "cur_time: 2021-10-19 12:06:00\n"
     ]
    },
    {
     "name": "stderr",
     "output_type": "stream",
     "text": [
      "100%|██████████| 30/30 [00:02<00:00, 14.11it/s]\n"
     ]
    },
    {
     "name": "stdout",
     "output_type": "stream",
     "text": [
      "得分: {'超萌漩漩涡': 263.0, '哈利波特与禁忌之旅': 265.0, '奇遇迅猛龙': 262.0, '功夫熊猫': 267.74074074074076}\n",
      "推荐景点:  功夫熊猫\n",
      "##############################\n",
      "\n",
      "need_to_visit:  ['功夫熊猫', '变形金刚', '超萌漩漩涡', '哈利波特与禁忌之旅', '飞越侏罗纪', '灯影传奇', '奇遇迅猛龙']\n",
      "cur_time: 2021-10-19 09:06:00\n"
     ]
    },
    {
     "name": "stderr",
     "output_type": "stream",
     "text": [
      "100%|██████████| 30/30 [00:03<00:00,  8.42it/s]\n"
     ]
    },
    {
     "name": "stdout",
     "output_type": "stream",
     "text": [
      "得分: {'功夫熊猫': 185.0, '变形金刚': 170.0, '超萌漩漩涡': 149.0, '哈利波特与禁忌之旅': 155.0, '飞越侏罗纪': 195.47826086956522, '灯影传奇': 166.0, '奇遇迅猛龙': 141.0}\n",
      "推荐景点:  飞越侏罗纪\n"
     ]
    },
    {
     "ename": "KeyboardInterrupt",
     "evalue": "",
     "output_type": "error",
     "traceback": [
      "\u001b[0;31m---------------------------------------------------------------------------\u001b[0m",
      "\u001b[0;31mKeyboardInterrupt\u001b[0m                         Traceback (most recent call last)",
      "\u001b[0;32m<ipython-input-3-020b8e17bf54>\u001b[0m in \u001b[0;36m<module>\u001b[0;34m\u001b[0m\n\u001b[1;32m     72\u001b[0m     \u001b[0mres\u001b[0m\u001b[0;34m.\u001b[0m\u001b[0mto_csv\u001b[0m\u001b[0;34m(\u001b[0m\u001b[0;34mf'./sub/recommend.txt'\u001b[0m\u001b[0;34m,\u001b[0m \u001b[0mindex\u001b[0m \u001b[0;34m=\u001b[0m \u001b[0;32mFalse\u001b[0m\u001b[0;34m,\u001b[0m \u001b[0mheader\u001b[0m \u001b[0;34m=\u001b[0m \u001b[0;32mFalse\u001b[0m\u001b[0;34m)\u001b[0m\u001b[0;34m\u001b[0m\u001b[0;34m\u001b[0m\u001b[0m\n\u001b[1;32m     73\u001b[0m \u001b[0;34m\u001b[0m\u001b[0m\n\u001b[0;32m---> 74\u001b[0;31m     \u001b[0mtime\u001b[0m\u001b[0;34m.\u001b[0m\u001b[0msleep\u001b[0m\u001b[0;34m(\u001b[0m\u001b[0;36m10\u001b[0m\u001b[0;34m)\u001b[0m\u001b[0;34m\u001b[0m\u001b[0;34m\u001b[0m\u001b[0m\n\u001b[0m\u001b[1;32m     75\u001b[0m     \u001b[0mprint\u001b[0m\u001b[0;34m(\u001b[0m\u001b[0;34m\"#\"\u001b[0m \u001b[0;34m*\u001b[0m \u001b[0;36m30\u001b[0m\u001b[0;34m)\u001b[0m\u001b[0;34m\u001b[0m\u001b[0;34m\u001b[0m\u001b[0m\n\u001b[1;32m     76\u001b[0m     \u001b[0mprint\u001b[0m\u001b[0;34m(\u001b[0m\u001b[0;34m)\u001b[0m\u001b[0;34m\u001b[0m\u001b[0;34m\u001b[0m\u001b[0m\n",
      "\u001b[0;31mKeyboardInterrupt\u001b[0m: "
     ]
    }
   ],
   "source": [
    "import time\n",
    "k = 0\n",
    "while True:\n",
    "    idx = k % 3\n",
    "    \n",
    "    if idx == 0:\n",
    "        # case1\n",
    "        need_to_visit = ['功夫熊猫', '变形金刚', '超萌漩漩涡', '哈利波特与禁忌之旅', '飞越侏罗纪' ,'灯影传奇', '奇遇迅猛龙']\n",
    "        cur_time = \"2021-10-19 09:06:00\"\n",
    "    elif idx == 1:\n",
    "        # case2\n",
    "        need_to_visit = ['功夫熊猫', '飞越侏罗纪' ,'灯影传奇','奇遇迅猛龙']\n",
    "        cur_time = \"2021-10-19 11:19:00\"\n",
    "    else:\n",
    "        # case3\n",
    "        need_to_visit = ['超萌漩漩涡', '哈利波特与禁忌之旅', '奇遇迅猛龙' ,'功夫熊猫']\n",
    "        cur_time = \"2021-10-19 12:06:00\"\n",
    "    print(\"need_to_visit: \", need_to_visit)\n",
    "    print(\"cur_time:\", cur_time)\n",
    "    \n",
    "    \n",
    "    # ## 初始化\n",
    "    n_start = Node(\"S\")\n",
    "    n_start.expaned(need_to_visit)\n",
    "\n",
    "    # ## 迭代\n",
    "    for _ in tqdm(range(30)):\n",
    "\n",
    "        N = n_start.n\n",
    "        path = []\n",
    "\n",
    "        cur = n_start\n",
    "        path.append(cur.state)\n",
    "        while cur.children != []:\n",
    "            ucb_of_children = []\n",
    "            for child in cur.children:\n",
    "                Q = child.Q\n",
    "                n = child.n\n",
    "                ucb_ = ucb_score(Q, n, N)\n",
    "                ucb_of_children.append(ucb_)\n",
    "            max_ucb_idx_ = ucb_of_children.index(max(ucb_of_children))\n",
    "            cur = cur.children[max_ucb_idx_]\n",
    "            path.append(cur.state)\n",
    "\n",
    "        if cur.n == 0:\n",
    "            q, random_path = rollout(need_to_visit, path)\n",
    "            backward(path, q)\n",
    "        else:\n",
    "            expand(cur, need_to_visit, path)\n",
    "            if len(cur.children) == 0:\n",
    "                pass\n",
    "            else:\n",
    "                cur = cur.children[0]\n",
    "                path.append(cur.state)\n",
    "            q, random_path = rollout(need_to_visit, path)\n",
    "            backward(path, q)\n",
    "            \n",
    "    # 景点推荐\n",
    "    score_of_children = {}\n",
    "    for child in n_start.children:\n",
    "        Q = child.Q\n",
    "        n = child.n\n",
    "        score_ = Q / n\n",
    "        score_of_children[child.state] = score_\n",
    "    print('得分:', score_of_children)\n",
    "    recommend = max(score_of_children.items(), key=operator.itemgetter(1))[0]\n",
    "\n",
    "    print('推荐景点: ', recommend)\n",
    "\n",
    "    res = pd.DataFrame()\n",
    "    res['recommend'] = [recommend]\n",
    "    res.to_csv(f'./sub/recommend.txt', index = False, header = False)\n",
    "    \n",
    "    time.sleep(10)\n",
    "    print(\"#\" * 30)\n",
    "    print()\n",
    "        \n",
    "    k += 1"
   ]
  },
  {
   "cell_type": "code",
   "execution_count": null,
   "metadata": {},
   "outputs": [],
   "source": []
  },
  {
   "cell_type": "code",
   "execution_count": null,
   "metadata": {},
   "outputs": [],
   "source": []
  }
 ],
 "metadata": {
  "kernelspec": {
   "display_name": "Python 3",
   "language": "python",
   "name": "python3"
  },
  "language_info": {
   "codemirror_mode": {
    "name": "ipython",
    "version": 3
   },
   "file_extension": ".py",
   "mimetype": "text/x-python",
   "name": "python",
   "nbconvert_exporter": "python",
   "pygments_lexer": "ipython3",
   "version": "3.7.3"
  },
  "toc": {
   "base_numbering": 1,
   "nav_menu": {},
   "number_sections": true,
   "sideBar": true,
   "skip_h1_title": false,
   "title_cell": "Table of Contents",
   "title_sidebar": "Contents",
   "toc_cell": false,
   "toc_position": {},
   "toc_section_display": true,
   "toc_window_display": false
  },
  "varInspector": {
   "cols": {
    "lenName": 16,
    "lenType": 16,
    "lenVar": 40
   },
   "kernels_config": {
    "python": {
     "delete_cmd_postfix": "",
     "delete_cmd_prefix": "del ",
     "library": "var_list.py",
     "varRefreshCmd": "print(var_dic_list())"
    },
    "r": {
     "delete_cmd_postfix": ") ",
     "delete_cmd_prefix": "rm(",
     "library": "var_list.r",
     "varRefreshCmd": "cat(var_dic_list()) "
    }
   },
   "types_to_exclude": [
    "module",
    "function",
    "builtin_function_or_method",
    "instance",
    "_Feature"
   ],
   "window_display": false
  }
 },
 "nbformat": 4,
 "nbformat_minor": 2
}
